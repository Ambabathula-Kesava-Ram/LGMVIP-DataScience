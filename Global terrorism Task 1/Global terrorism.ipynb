{
 "cells": [
  {
   "attachments": {},
   "cell_type": "markdown",
   "metadata": {},
   "source": [
    "# LETS GROW MORE VIRTUAL INTERNSHIP PROGRAM (LGMVIP) 2023\n",
    "\n",
    "# DATA SCIENCE INTERNSHIP\n",
    "\n",
    "# TASK - EXPLORATORY DATA ANALYSIS ON THE GLOBAL TERRORISM DATASET\n",
    "\n",
    "# NAME - Kesava Ram Ambabathula"
   ]
  },
  {
   "cell_type": "code",
   "execution_count": null,
   "metadata": {},
   "outputs": [],
   "source": [
    "#IMPORT IMPORTANT LIBRARIES\n",
    "import warnings\n",
    "import numpy as np\n",
    "import pandas as pd\n",
    "from pandas import Series, DataFrame\n",
    "import matplotlib.pyplot as plt\n",
    "import seaborn as sns\n",
    "%matplotlib inline\n",
    "warnings.filterwarnings('ignore')"
   ]
  },
  {
   "cell_type": "code",
   "execution_count": null,
   "metadata": {},
   "outputs": [],
   "source": [
    "#READ THE DATA \n",
    "df1 = pd.read_csv(r\"globalterrorismdb_0718dist.csv\", encoding=\"latin1\")\n",
    "df1.head()"
   ]
  },
  {
   "cell_type": "code",
   "execution_count": null,
   "metadata": {},
   "outputs": [],
   "source": [
    "#GET TO KNOW THE DATA\n",
    "df1.size"
   ]
  },
  {
   "cell_type": "code",
   "execution_count": null,
   "metadata": {},
   "outputs": [],
   "source": [
    "df1.shape"
   ]
  },
  {
   "cell_type": "code",
   "execution_count": null,
   "metadata": {},
   "outputs": [],
   "source": [
    "df1.describe()"
   ]
  },
  {
   "cell_type": "code",
   "execution_count": null,
   "metadata": {},
   "outputs": [],
   "source": [
    "df1.columns"
   ]
  },
  {
   "cell_type": "code",
   "execution_count": null,
   "metadata": {},
   "outputs": [],
   "source": [
    "#There are 135 columns present in the dataset and most of them are not useful for us to perform analysis."
   ]
  },
  {
   "cell_type": "code",
   "execution_count": null,
   "metadata": {},
   "outputs": [],
   "source": [
    "#RENAME THE COLUMNS\n",
    "df1.rename(columns={\"iyear\": \"Year\", \"imonth\": \"Month\", \"iday\": \"Day\", \"country_txt\": \"Country\",\n",
    "                   \"region_txt\": \"Region\", \"provstate\": \"State\", \"city\": \"City\",\n",
    "                   \"latitude\": \"Latitude\", \"longitude\": \"Longitude\", \"location\": \"Location\",\n",
    "                   \"summary\": \"Summary\", \"attacktype1_txt\": \"Attack Type\", \"targtype1_txt\": \"Target Type\",\n",
    "                   \"gname\": \"Group Name\", \"motive\": \"Motive\", \"weaptype1_txt\": \"Weapon Type\",\n",
    "                   \"nkill\": \"Killed\", \"nwound\": \"Wounded\", \"addnotes\": \"Add Notes\", 'target1': 'Target'}, inplace=True)\n"
   ]
  },
  {
   "cell_type": "code",
   "execution_count": null,
   "metadata": {},
   "outputs": [],
   "source": [
    "df1.columns\n"
   ]
  },
  {
   "cell_type": "code",
   "execution_count": null,
   "metadata": {},
   "outputs": [],
   "source": [
    "#EXTRACTING USEFUL COLUMNS FOR ANALYSIS\n",
    "df = df1[['eventid', 'Year', 'Month', 'Day', 'Country',  'Region', 'City', 'Latitude', 'Longitude', 'Attack Type',\n",
    "          'Target Type', 'suicide', 'Killed', 'Wounded', 'Summary', 'Group Name', 'Weapon Type', 'Motive']]\n"
   ]
  },
  {
   "cell_type": "code",
   "execution_count": null,
   "metadata": {},
   "outputs": [],
   "source": [
    "df.head()"
   ]
  },
  {
   "cell_type": "code",
   "execution_count": null,
   "metadata": {},
   "outputs": [],
   "source": [
    "df.describe()"
   ]
  },
  {
   "attachments": {},
   "cell_type": "markdown",
   "metadata": {},
   "source": [
    "# EXPLORATORY DATA ANALYSIS"
   ]
  },
  {
   "cell_type": "code",
   "execution_count": null,
   "metadata": {},
   "outputs": [],
   "source": [
    "plt.figure(figsize=(15,10))\n",
    "ax = sns.countplot(x='Year',data=df,palette='crest')\n",
    "ax.set_xticklabels(ax.get_xticklabels(), rotation=90, ha=\"right\")\n",
    "plt.title('Global Terrorist Attack Incidents 1970-2017',size=15)\n",
    "plt.ylabel('Incidents')"
   ]
  },
  {
   "cell_type": "code",
   "execution_count": null,
   "metadata": {},
   "outputs": [],
   "source": [
    "#IT IS CLEAR THAT TERROR ATTACKS SOWLY STARTED TO INCREASE FROM 1970 TO UNTIL ABOUT 1993. AND THEN WE SEE A DOWNFALL IN TREND\n",
    "#IN TERROR ACTIVITIES UNTIL 2004 BUT AFTER THAT GLOBAL TERRORISM (NO. OF ATTACKS) INCREASED RAPIDLY.\n",
    "#2013 AND 2014 WERE THE YEARS IN WHICH MOST OF THE TERROR ATTACKS OCCURED GLOBALLY."
   ]
  },
  {
   "attachments": {},
   "cell_type": "markdown",
   "metadata": {},
   "source": [
    "# TERROR ATTACKS WITH DIFFERENT WEAPONS"
   ]
  },
  {
   "cell_type": "code",
   "execution_count": null,
   "metadata": {},
   "outputs": [],
   "source": [
    "plt.figure(figsize=(15,10))\n",
    "ax = sns.countplot(x='Attack Type',data=df,palette='RdGy',order = df['Attack Type'].value_counts().index)\n",
    "ax.set_xticklabels(ax.get_xticklabels(), rotation=90, ha=\"right\")\n",
    "plt.title('Types of Terrorist Attack',size=15)\n",
    "plt.ylabel('Count of Attacks')"
   ]
  },
  {
   "cell_type": "code",
   "execution_count": null,
   "metadata": {},
   "outputs": [],
   "source": [
    "#IT IS CLEARLY VISIBLE THAT MOST OF THE TERROR ATTACKS WAS LED BY BOMBING/EXPLOSION AND AFTER THIS METHOD , ARMED ASSAULT HAS\n",
    "#BEEN USED SO MUCH IN CONDUCTING TERROR ATTACKS.\n",
    "#HIJACKING IS IN LAST DESPITE ITS PREVALENCE."
   ]
  },
  {
   "attachments": {},
   "cell_type": "markdown",
   "metadata": {},
   "source": [
    "# GLOBAL BOMBINGS"
   ]
  },
  {
   "cell_type": "code",
   "execution_count": null,
   "metadata": {},
   "outputs": [],
   "source": [
    "df_bombing = df[df['Attack Type'] == 'Bombing/Explosion']"
   ]
  },
  {
   "cell_type": "code",
   "execution_count": null,
   "metadata": {},
   "outputs": [],
   "source": [
    "sns.catplot(x='Year',data=df_bombing,kind='count',height=8, aspect=2,palette='copper')\n",
    "plt.xticks(rotation=90)\n",
    "plt.title('No. of Bombings per year',size=15)\n",
    "plt.ylabel('Attacks')"
   ]
  },
  {
   "cell_type": "code",
   "execution_count": null,
   "metadata": {},
   "outputs": [],
   "source": [
    "#GLOBAL BOMBING TREND IS FOLLOWING THE SAME TREND AS GLOBAL ATTACKS BUT THEIR IS SHARP DECLINE IN EARLY 90S."
   ]
  },
  {
   "cell_type": "code",
   "execution_count": null,
   "metadata": {},
   "outputs": [],
   "source": [
    "pd.crosstab(df.Year,df.Region).plot(figsize=(15,10))\n",
    "plt.title('Terrorist Attack By Region',size=15)\n",
    "plt.ylabel('No. of Attacks')"
   ]
  },
  {
   "cell_type": "code",
   "execution_count": null,
   "metadata": {},
   "outputs": [],
   "source": [
    "#ITS VERY CLEAR THAT TREND OF TERROR ATTACKS HAVE CHANGED OVER THE YEARS IN DIFFERENT REGION."
   ]
  },
  {
   "cell_type": "code",
   "execution_count": null,
   "metadata": {},
   "outputs": [],
   "source": [
    "#Here it becomes very clear how the overall trend over attacks has changed over the years in different regions across the globe.\n",
    "#We can also see that come we experience the same jump in numbers and see that the Middle East and North Africa along with \n",
    "#South Asia are the hardest hit by terrorist attacks."
   ]
  },
  {
   "attachments": {},
   "cell_type": "markdown",
   "metadata": {},
   "source": [
    "# TOTAL NUMBER OF TERROR ATTACK IN EACH COUNTRY"
   ]
  },
  {
   "cell_type": "code",
   "execution_count": null,
   "metadata": {},
   "outputs": [],
   "source": [
    "plt.figure(figsize=(15,10))\n",
    "sns.barplot(x = df['Country'].value_counts().values[:10], y = df['Country'].value_counts()[:10].index,palette = 'autumn')\n",
    "plt.xlabel('Number of Attacks')\n",
    "plt.ylabel('Countries')\n",
    "plt.title('Top-10:Total Attacks by Country',size=15)"
   ]
  },
  {
   "cell_type": "code",
   "execution_count": null,
   "metadata": {},
   "outputs": [],
   "source": [
    "#With the plot above we can see that Iraq followed Pakistan are the countries with most terrorism occurences in 2017 \n",
    "#(and also in all period)."
   ]
  },
  {
   "attachments": {},
   "cell_type": "markdown",
   "metadata": {},
   "source": [
    "# IRAQ TERRORISM ANALYSIS"
   ]
  },
  {
   "cell_type": "code",
   "execution_count": null,
   "metadata": {},
   "outputs": [],
   "source": [
    "#Preparing the data for analysis\n",
    "Iraq = df[df.Country == 'Iraq']\n",
    "Iraq_cities = Iraq.groupby(by='City',as_index=False).count().sort_values(by='eventid',ascending=False).iloc[:5,]\n",
    "\n",
    "Iraq_suicide_size = Iraq['suicide'].sum() / len(Iraq)\n",
    "labels = ['Suicide', 'Not Suicide']\n",
    "\n",
    "Iraq_year = Iraq.groupby(by='Year', as_index=False).sum().loc[:, ['Year', 'Killed']]\n",
    "\n",
    "Iraq_weapon = Iraq.groupby(by='Weapon Type',as_index=False).count().sort_values(by='eventid',ascending=False).iloc[:,:2]"
   ]
  },
  {
   "cell_type": "code",
   "execution_count": null,
   "metadata": {},
   "outputs": [],
   "source": [
    "fig, axs = plt.subplots(nrows=2, ncols=2, figsize=(15, 10))\n",
    "\n",
    "# Plot 1 - Top 5 terrorism cities    \n",
    "sns.barplot(x='eventid', y='City', data=Iraq_cities, ci=None, ax=axs[0, 0],palette='summer')\n",
    "axs[0, 0].set_title(f'Top 5 Iraq Cities With Most Terrorism Occurences')\n",
    "axs[0, 0].set_ylabel('City')\n",
    "axs[0, 0].set_xlabel('Victims')\n",
    "\n",
    "# Plot 2 - Suicide Rate\n",
    "center_circle = plt.Circle((0,0), 0.75, color='white')\n",
    "axs[0, 1].pie((Iraq_suicide_size, 1-Iraq_suicide_size), labels=labels,colors=['red','green'] , autopct='%1.1f%%')\n",
    "axs[0, 1].add_artist(center_circle)\n",
    "axs[0, 1].set_title('Iraq Terrorism Suicide Rate')\n",
    "axs[0, 0].set_ylabel('Victims')\n",
    "\n",
    "# Plot 3 - Victims through the years\n",
    "sns.lineplot(x='Year', y='Killed', data=Iraq_year, ax=axs[1, 0],color='red')\n",
    "axs[1, 0].set_xlim([1970, 2017])\n",
    "axs[1, 0].set_title('Iraq Number of Victims Over Time')\n",
    "axs[1, 0].set_ylabel('Victims')\n",
    "\n",
    "# Plot 4 - Terrorism Weapons\n",
    "sns.barplot(x='Weapon Type', y='eventid', data=Iraq_weapon, ci=None, ax=axs[1, 1],palette='summer')\n",
    "axs[1, 1].set_xticklabels(axs[1, 1].get_xticklabels(), rotation=90)\n",
    "axs[1, 1].set_xlabel('')\n",
    "axs[1, 1].set_ylabel('Count')\n",
    "axs[1, 1].set_title('Iraq Weapons Used in Attacks')\n",
    "\n",
    "plt.suptitle('Terrorism Analysis in Iraq between 1970 and 2017', size=16)    \n",
    "plt.subplots_adjust(top=0.90)\n",
    "plt.show()"
   ]
  },
  {
   "attachments": {},
   "cell_type": "markdown",
   "metadata": {},
   "source": [
    "# Insights Derived From EDA"
   ]
  },
  {
   "cell_type": "code",
   "execution_count": null,
   "metadata": {},
   "outputs": [],
   "source": [
    "#Most attacks happened in 2014.\n",
    "#Bombing was the most favoured form of attack used.\n",
    "#The Middle East and South Asia Regions has most taregeted.\n",
    "#There are maximum number of attacks in Private citizens and Property.\n",
    "#Iraq is the country where maximum terrorist attaked happened."
   ]
  },
  {
   "attachments": {},
   "cell_type": "markdown",
   "metadata": {},
   "source": [
    "# Thank You!!!"
   ]
  },
  {
   "cell_type": "code",
   "execution_count": null,
   "metadata": {},
   "outputs": [],
   "source": []
  }
 ],
 "metadata": {
  "kernelspec": {
   "display_name": "Python 3 (ipykernel)",
   "language": "python",
   "name": "python3"
  },
  "language_info": {
   "codemirror_mode": {
    "name": "ipython",
    "version": 3
   },
   "file_extension": ".py",
   "mimetype": "text/x-python",
   "name": "python",
   "nbconvert_exporter": "python",
   "pygments_lexer": "ipython3",
   "version": "3.9.1"
  }
 },
 "nbformat": 4,
 "nbformat_minor": 2
}
