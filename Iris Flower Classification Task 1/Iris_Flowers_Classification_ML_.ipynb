{
  "cells": [
    {
      "attachments": {},
      "cell_type": "markdown",
      "metadata": {},
      "source": [
        "Lets Grow More (LGM) Data Sceience Internship\n",
        "\n",
        "BEGINNER LEVEL TASK 1\n",
        "\n",
        "Task-1 : Iris Flowers Classification Using Machine Learning(ML)"
      ]
    },
    {
      "cell_type": "code",
      "execution_count": null,
      "metadata": {
        "id": "Jpno3eHYmdKU"
      },
      "outputs": [],
      "source": [
        "import pandas as pd\n",
        "import numpy as np\n",
        "import matplotlib.pyplot as plt\n",
        "import seaborn as sns"
      ]
    },
    {
      "cell_type": "code",
      "execution_count": null,
      "metadata": {
        "colab": {
          "base_uri": "https://localhost:8080/"
        },
        "id": "cVespO6DmeB9",
        "outputId": "29b72f33-9a8b-4297-d638-2e273a5016bb"
      },
      "outputs": [],
      "source": [
        "#Reading the CSV file and giving column names\n",
        "columns = [\"Sepal Length\",\"Sepal Width\",\"Petal Length\",\"Petal Width\",\"Class Labels\"]\n",
        "df = pd.read_csv(\"iris.data\", names = columns)\n",
        "print(df)"
      ]
    },
    {
      "cell_type": "code",
      "execution_count": null,
      "metadata": {
        "colab": {
          "base_uri": "https://localhost:8080/"
        },
        "id": "unPkOTDgmeEQ",
        "outputId": "6a483e74-6809-48c4-bdda-1aa6342ca698"
      },
      "outputs": [],
      "source": [
        "#Understanding the data\n",
        "print(df.head())\n"
      ]
    },
    {
      "cell_type": "code",
      "execution_count": null,
      "metadata": {
        "colab": {
          "base_uri": "https://localhost:8080/"
        },
        "id": "IU26oXjImeHA",
        "outputId": "a6205e34-243a-47a5-aae9-3edfa303744f"
      },
      "outputs": [],
      "source": [
        "print(df.tail())"
      ]
    },
    {
      "cell_type": "code",
      "execution_count": null,
      "metadata": {
        "colab": {
          "base_uri": "https://localhost:8080/"
        },
        "id": "G7Os2IUnmeJP",
        "outputId": "b033cf18-bbe4-4e98-832b-547d1fa69636"
      },
      "outputs": [],
      "source": [
        "print(df.describe())"
      ]
    },
    {
      "cell_type": "code",
      "execution_count": null,
      "metadata": {
        "colab": {
          "base_uri": "https://localhost:8080/"
        },
        "id": "0y-ZedPdmsAk",
        "outputId": "2ed7087f-09d0-4ca9-e459-ce3a6606b081"
      },
      "outputs": [],
      "source": [
        "print(df.shape)"
      ]
    },
    {
      "cell_type": "code",
      "execution_count": null,
      "metadata": {
        "colab": {
          "base_uri": "https://localhost:8080/"
        },
        "id": "6fS2Luo9msC_",
        "outputId": "78aef767-750d-484e-cf4d-d98d562c75ed"
      },
      "outputs": [],
      "source": [
        "print(df.columns)"
      ]
    },
    {
      "cell_type": "code",
      "execution_count": null,
      "metadata": {
        "colab": {
          "base_uri": "https://localhost:8080/"
        },
        "id": "0ruXFW4dmsFY",
        "outputId": "26cb5f2f-40f8-4be4-df2a-b2074d359395"
      },
      "outputs": [],
      "source": [
        "print(df.info())"
      ]
    },
    {
      "cell_type": "code",
      "execution_count": null,
      "metadata": {
        "colab": {
          "base_uri": "https://localhost:8080/"
        },
        "id": "KDpGooFImsJy",
        "outputId": "3511a2d9-09cf-4bac-9305-f4b08dc30d90"
      },
      "outputs": [],
      "source": [
        "#Cleaning the data\n",
        "print(df.isnull().sum())"
      ]
    },
    {
      "cell_type": "code",
      "execution_count": null,
      "metadata": {
        "colab": {
          "base_uri": "https://localhost:8080/",
          "height": 1000
        },
        "id": "OMfCidnFmsNk",
        "outputId": "4ac2d5b8-2559-4b02-cc39-1bc5b2e9fc83"
      },
      "outputs": [],
      "source": [
        "#Visulization of Dataset\n",
        "sns.pairplot(df,hue=\"Class Labels\")\n",
        "plt.show()"
      ]
    },
    {
      "cell_type": "code",
      "execution_count": null,
      "metadata": {
        "colab": {
          "base_uri": "https://localhost:8080/"
        },
        "id": "uUOIuDBvmsR1",
        "outputId": "be90c8c1-881e-4eeb-8c8a-d7ae47fde2aa"
      },
      "outputs": [],
      "source": [
        "#Analyse Correlations\n",
        "data = df[[\"Sepal Length\",\"Sepal Width\",\"Petal Length\",\"Petal Width\"]]\n",
        "correlation = data.corr()\n",
        "print(correlation)"
      ]
    },
    {
      "cell_type": "code",
      "execution_count": null,
      "metadata": {
        "colab": {
          "base_uri": "https://localhost:8080/",
          "height": 435
        },
        "id": "9LO67X9MmsZp",
        "outputId": "5b3a2163-942d-4c09-e0b8-b0d70e19e148"
      },
      "outputs": [],
      "source": [
        "heatmap = sns.heatmap(correlation, xticklabels=correlation.columns, yticklabels=correlation.columns, annot = True)\n",
        "plt.show()"
      ]
    },
    {
      "cell_type": "code",
      "execution_count": null,
      "metadata": {
        "colab": {
          "base_uri": "https://localhost:8080/"
        },
        "id": "zrhDYkxSmsb8",
        "outputId": "6c0aa754-7a77-4318-9ea4-721d356c0bee"
      },
      "outputs": [],
      "source": [
        "#Separating input columns and the  output columns\n",
        "# Seprating features and target \n",
        "data2 = df.values\n",
        "X = data2[:,0:4]\n",
        "Y = data2[:,4]\n",
        "print(X)\n",
        "print(Y)"
      ]
    },
    {
      "cell_type": "code",
      "execution_count": null,
      "metadata": {
        "id": "M9kKQ-PYowCE"
      },
      "outputs": [],
      "source": [
        "# Calculate avarage of each features for all classes\n",
        "Y_Data = np.array([np.average(X[:, i][Y==j].astype('float32')) for i in range (X.shape[1]) for j in (np.unique(Y))])\n",
        "Y_Data_reshaped = Y_Data.reshape(4, 3)\n",
        "Y_Data_reshaped = np.swapaxes(Y_Data_reshaped, 0, 1)\n",
        "X_axis = np.arange(len(columns)-1)\n",
        "width = 0.25"
      ]
    },
    {
      "cell_type": "code",
      "execution_count": null,
      "metadata": {
        "colab": {
          "base_uri": "https://localhost:8080/",
          "height": 449
        },
        "id": "rFrTRMHkowK7",
        "outputId": "e176fa15-9e17-4e5e-ebdd-e69c29948eae"
      },
      "outputs": [],
      "source": [
        "# Plot the avarage\n",
        "plt.bar(X_axis, Y_Data_reshaped[0], width, label = 'Setosa')\n",
        "plt.bar(X_axis+width, Y_Data_reshaped[1], width, label = 'Versicolour')\n",
        "plt.bar(X_axis+width*2, Y_Data_reshaped[2], width, label = 'Virginica')\n",
        "plt.xticks(X_axis, columns[:4])\n",
        "plt.xlabel(\"Features\")\n",
        "plt.ylabel(\"Value in cm.\")\n",
        "plt.legend(bbox_to_anchor=(1.3,1))\n",
        "plt.show()"
      ]
    },
    {
      "cell_type": "code",
      "execution_count": null,
      "metadata": {
        "colab": {
          "base_uri": "https://localhost:8080/"
        },
        "id": "GPuc23Ybmsgp",
        "outputId": "9add7ba6-2030-4100-a63e-93c9200d88d9"
      },
      "outputs": [],
      "source": [
        "#Splitting the dataset into train and test dataset\n",
        "\n",
        "from sklearn.model_selection import train_test_split\n",
        "X_train,X_test, y_train, y_test= train_test_split(X,Y, test_size= 0.3)\n",
        "print(X_train)\n",
        "print(y_test)"
      ]
    },
    {
      "cell_type": "code",
      "execution_count": null,
      "metadata": {
        "id": "tVljjA4Omsj_"
      },
      "outputs": [],
      "source": [
        "#Model\n",
        "\n",
        "#Logistic Regression\n",
        "from sklearn.linear_model import LogisticRegression\n",
        "\n",
        "model = LogisticRegression(max_iter=1000)\n",
        "\n",
        "model.fit(X_train,y_train)\n",
        "\n",
        "prediction = model.predict(X_test)"
      ]
    },
    {
      "cell_type": "code",
      "execution_count": null,
      "metadata": {
        "colab": {
          "base_uri": "https://localhost:8080/"
        },
        "id": "YGmc1nMxmsmV",
        "outputId": "024a6926-fdb5-4ffe-bc10-65f429462b1b"
      },
      "outputs": [],
      "source": [
        "#Calculating the accuracy\n",
        "from sklearn.metrics import accuracy_score\n",
        "print(accuracy_score(y_test,prediction)*100)"
      ]
    }
  ],
  "metadata": {
    "colab": {
      "provenance": []
    },
    "kernelspec": {
      "display_name": "Python 3",
      "name": "python3"
    },
    "language_info": {
      "codemirror_mode": {
        "name": "ipython",
        "version": 3
      },
      "file_extension": ".py",
      "mimetype": "text/x-python",
      "name": "python",
      "nbconvert_exporter": "python",
      "pygments_lexer": "ipython3",
      "version": "3.9.1"
    }
  },
  "nbformat": 4,
  "nbformat_minor": 0
}
